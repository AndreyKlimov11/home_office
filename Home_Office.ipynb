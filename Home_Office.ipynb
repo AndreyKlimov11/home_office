{
 "cells": [
  {
   "cell_type": "code",
   "execution_count": 306,
   "id": "9c82c90a-429e-489b-a7f0-2ccf3cf4be62",
   "metadata": {},
   "outputs": [],
   "source": [
    "import pandas as pd \n",
    "from datetime import datetime\n",
    "import matplotlib.pyplot as plt\n",
    "import seaborn as sns\n",
    "\n",
    "from scipy.stats import shapiro # для проверки нормальности\n",
    "from scipy.stats import levene # для проверки гомогенности дисперсий\n",
    "from scipy.stats import ttest_ind # для проверки различий двух выборок"
   ]
  },
  {
   "cell_type": "code",
   "execution_count": 287,
   "id": "2704da05-1b95-4b20-b612-bff13fea5701",
   "metadata": {},
   "outputs": [],
   "source": [
    "data = [\n",
    "    \n",
    "    ## trolleybus\n",
    "    ('10:23:00', '11:05:00', 't', 'd'),\n",
    "    ('10:52:00', '11:32:00', 't', 'd'),\n",
    "    ('08:00:00', '08:40:00', 't', 'd'),\n",
    "    ('07:59:00', '08:42:00', 't', 'd'),\n",
    "    ('08:06:00', '08:47:00', 't', 'd'),\n",
    "    ('08:12:00', '08:58:00', 't', 'd'),\n",
    "    ('08:19:00', '09:12:00', 't', 'd'),\n",
    "    ('08:19:00', '09:09:00', 't', 'd'),\n",
    "    ('08:05:00', '08:47:00', 't', 'd'),\n",
    "    ('18:08:00', '18:55:00', 't', 'a'),\n",
    "    ('18:15:00', '19:10:00', 't', 'a'),\n",
    "    ('19:12:00', '19:55:00', 't', 'a'),\n",
    "    ('19:22:00', '20:01:00', 't', 'a'),\n",
    "    ('08:10:00', '08:55:00', 't', 'd'),\n",
    "    ('09:15:00', '09:55:00', 't', 'd'),\n",
    "    ('08:07:00', '08:49:00', 't', 'd'),\n",
    "    ('18:08:00', '18:55:00', 't', 'a'),\n",
    "    ('18:12:00', '19:05:00', 't', 'a'),\n",
    "    ('19:15:00', '20:01:00', 't', 'a'),\n",
    "    ('09:20:00', '10:02:00', 't', 'd'),\n",
    "    ('08:15:00', '09:03:00', 't', 'd'),\n",
    "    ('09:12:00', '09:55:00', 't', 'd'),\n",
    "    ('18:20:00', '19:07:00', 't', 'a'),\n",
    "    ('19:14:00', '19:58:00', 't', 'a'),\n",
    "    ('18:07:00', '18:55:00', 't', 'a'),\n",
    "    ('08:15:00', '08:51:00', 't', 'd'),\n",
    "    ('09:14:00', '09:55:00', 't', 'd'),\n",
    "    ('09:25:00', '10:04:00', 't', 'd'),\n",
    "    ('08:12:00', '08:53:00', 't', 'd'),\n",
    "    ('08:12:00', '08:53:00', 't', 'd'),\n",
    "    ('19:07:00', '19:55:00', 't', 'a'),\n",
    "    ('19:07:00', '19:55:00', 't', 'a'),\n",
    "    ('18:07:00', '19:02:00', 't', 'a'),\n",
    "    ('18:25:00', '19:13:00', 't', 'a'),\n",
    "    ('19:12:00', '20:01:00', 't', 'a'),\n",
    "    \n",
    "    ## metro\n",
    "    ('18:36:00', '19:11:00', 'm', 'a'),\n",
    "    ('08:03:00', '08:37:00', 'm', 'd'),\n",
    "    ('18:06:00', '18:41:00', 'm', 'a'),\n",
    "    ('18:00:00', '18:38:00', 'm', 'a'),\n",
    "    ('18:12:00', '18:50:00', 'm', 'a'),\n",
    "    ('18:18:00', '18:55:00', 'm', 'a'),\n",
    "    ('08:04:00', '08:48:00', 'm', 'd'),\n",
    "    ('08:22:00', '08:57:00', 'm', 'd'),\n",
    "    ('18:14:00', '18:51:00', 'm', 'a'),\n",
    "    ('08:34:00', '09:08:00', 'm', 'd'),\n",
    "    ('18:04:00', '18:41:00', 'm', 'a'),\n",
    "    ('08:31:00', '09:05:00', 'm', 'd'),\n",
    "    ('17:47:00', '18:26:00', 'm', 'a'),\n",
    "    ('08:35:00', '09:08:00', 'm', 'd'),\n",
    "    ('09:27:00', '10:06:00', 'm', 'd'),\n",
    "    ('17:31:00', '18:10:00', 'm', 'a'),\n",
    "    ('08:34:00', '09:08:00', 'm', 'd'),\n",
    "    ('17:25:00', '18:01:00', 'm', 'a'),\n",
    "    ('08:40:00', '09:12:00', 'm', 'd'),\n",
    "    ('17:47:00', '18:26:00', 'm', 'a'), \n",
    "    ('08:36:00', '09:11:00', 'm', 'd'),\n",
    "    ('17:55:00', '18:32:00', 'm', 'a'), \n",
    "    ('08:38:00', '09:14:00', 'm', 'd'),\n",
    "    ('18:01:00', '18:37:00', 'm', 'a'), \n",
    "    ('09:47:00', '10:28:00', 'm', 'd'),\n",
    "    ('18:31:00', '19:02:00', 'm', 'a'),\n",
    "    ('17:59:00', '18:38:00', 'm', 'a'),\n",
    "    ('08:43:00', '09:20:00', 'm', 'd'),\n",
    "    ('08:51:00', '09:29:00', 'm', 'd'),\n",
    "    ('18:05:00', '18:44:00', 'm', 'a'), \n",
    "    ('09:02:00', '09:41:00', 'm', 'd'),\n",
    "    ('18:22:00', '18:59:00', 'm', 'a'), \n",
    "    ('08:36:00', '09:10:00', 'm', 'd'),\n",
    "    ('08:43:00', '09:19:00', 'm', 'd'),\n",
    "    ('08:38:00', '09:15:00', 'm', 'd')\n",
    "    \n",
    "]"
   ]
  },
  {
   "cell_type": "code",
   "execution_count": 288,
   "id": "48deaf84-a224-4253-81cf-95a3f5247d3e",
   "metadata": {},
   "outputs": [],
   "source": [
    "df = pd.DataFrame(data, columns=['start_time', 'end_time', 'ride type', 'departure_arrive'])"
   ]
  },
  {
   "cell_type": "code",
   "execution_count": 289,
   "id": "49096db6-f223-4870-900c-40aecadf0be2",
   "metadata": {},
   "outputs": [
    {
     "name": "stdout",
     "output_type": "stream",
     "text": [
      "<class 'pandas.core.frame.DataFrame'>\n",
      "RangeIndex: 70 entries, 0 to 69\n",
      "Data columns (total 4 columns):\n",
      " #   Column            Non-Null Count  Dtype \n",
      "---  ------            --------------  ----- \n",
      " 0   start_time        70 non-null     object\n",
      " 1   end_time          70 non-null     object\n",
      " 2   ride type         70 non-null     object\n",
      " 3   departure_arrive  70 non-null     object\n",
      "dtypes: object(4)\n",
      "memory usage: 2.3+ KB\n"
     ]
    }
   ],
   "source": [
    "df.info()"
   ]
  },
  {
   "cell_type": "code",
   "execution_count": 290,
   "id": "d687d132-f3fa-4ec1-a884-553b09b4e09a",
   "metadata": {},
   "outputs": [
    {
     "data": {
      "text/html": [
       "<div>\n",
       "<style scoped>\n",
       "    .dataframe tbody tr th:only-of-type {\n",
       "        vertical-align: middle;\n",
       "    }\n",
       "\n",
       "    .dataframe tbody tr th {\n",
       "        vertical-align: top;\n",
       "    }\n",
       "\n",
       "    .dataframe thead th {\n",
       "        text-align: right;\n",
       "    }\n",
       "</style>\n",
       "<table border=\"1\" class=\"dataframe\">\n",
       "  <thead>\n",
       "    <tr style=\"text-align: right;\">\n",
       "      <th></th>\n",
       "      <th>start_time</th>\n",
       "      <th>end_time</th>\n",
       "      <th>ride type</th>\n",
       "      <th>departure_arrive</th>\n",
       "      <th>duration</th>\n",
       "    </tr>\n",
       "  </thead>\n",
       "  <tbody>\n",
       "    <tr>\n",
       "      <th>0</th>\n",
       "      <td>10:23:00</td>\n",
       "      <td>11:05:00</td>\n",
       "      <td>t</td>\n",
       "      <td>d</td>\n",
       "      <td>42.0</td>\n",
       "    </tr>\n",
       "    <tr>\n",
       "      <th>1</th>\n",
       "      <td>10:52:00</td>\n",
       "      <td>11:32:00</td>\n",
       "      <td>t</td>\n",
       "      <td>d</td>\n",
       "      <td>40.0</td>\n",
       "    </tr>\n",
       "    <tr>\n",
       "      <th>2</th>\n",
       "      <td>08:00:00</td>\n",
       "      <td>08:40:00</td>\n",
       "      <td>t</td>\n",
       "      <td>d</td>\n",
       "      <td>40.0</td>\n",
       "    </tr>\n",
       "    <tr>\n",
       "      <th>3</th>\n",
       "      <td>07:59:00</td>\n",
       "      <td>08:42:00</td>\n",
       "      <td>t</td>\n",
       "      <td>d</td>\n",
       "      <td>43.0</td>\n",
       "    </tr>\n",
       "    <tr>\n",
       "      <th>4</th>\n",
       "      <td>08:06:00</td>\n",
       "      <td>08:47:00</td>\n",
       "      <td>t</td>\n",
       "      <td>d</td>\n",
       "      <td>41.0</td>\n",
       "    </tr>\n",
       "    <tr>\n",
       "      <th>...</th>\n",
       "      <td>...</td>\n",
       "      <td>...</td>\n",
       "      <td>...</td>\n",
       "      <td>...</td>\n",
       "      <td>...</td>\n",
       "    </tr>\n",
       "    <tr>\n",
       "      <th>65</th>\n",
       "      <td>09:02:00</td>\n",
       "      <td>09:41:00</td>\n",
       "      <td>m</td>\n",
       "      <td>d</td>\n",
       "      <td>39.0</td>\n",
       "    </tr>\n",
       "    <tr>\n",
       "      <th>66</th>\n",
       "      <td>18:22:00</td>\n",
       "      <td>18:59:00</td>\n",
       "      <td>m</td>\n",
       "      <td>a</td>\n",
       "      <td>37.0</td>\n",
       "    </tr>\n",
       "    <tr>\n",
       "      <th>67</th>\n",
       "      <td>08:36:00</td>\n",
       "      <td>09:10:00</td>\n",
       "      <td>m</td>\n",
       "      <td>d</td>\n",
       "      <td>34.0</td>\n",
       "    </tr>\n",
       "    <tr>\n",
       "      <th>68</th>\n",
       "      <td>08:43:00</td>\n",
       "      <td>09:19:00</td>\n",
       "      <td>m</td>\n",
       "      <td>d</td>\n",
       "      <td>36.0</td>\n",
       "    </tr>\n",
       "    <tr>\n",
       "      <th>69</th>\n",
       "      <td>08:38:00</td>\n",
       "      <td>09:15:00</td>\n",
       "      <td>m</td>\n",
       "      <td>d</td>\n",
       "      <td>37.0</td>\n",
       "    </tr>\n",
       "  </tbody>\n",
       "</table>\n",
       "<p>70 rows × 5 columns</p>\n",
       "</div>"
      ],
      "text/plain": [
       "   start_time  end_time ride type departure_arrive  duration\n",
       "0    10:23:00  11:05:00         t                d      42.0\n",
       "1    10:52:00  11:32:00         t                d      40.0\n",
       "2    08:00:00  08:40:00         t                d      40.0\n",
       "3    07:59:00  08:42:00         t                d      43.0\n",
       "4    08:06:00  08:47:00         t                d      41.0\n",
       "..        ...       ...       ...              ...       ...\n",
       "65   09:02:00  09:41:00         m                d      39.0\n",
       "66   18:22:00  18:59:00         m                a      37.0\n",
       "67   08:36:00  09:10:00         m                d      34.0\n",
       "68   08:43:00  09:19:00         m                d      36.0\n",
       "69   08:38:00  09:15:00         m                d      37.0\n",
       "\n",
       "[70 rows x 5 columns]"
      ]
     },
     "execution_count": 290,
     "metadata": {},
     "output_type": "execute_result"
    }
   ],
   "source": [
    "# Преобразуем к datetime для расчета duration\n",
    "start_dt = pd.to_datetime(df['start_time'], format='%H:%M:%S')\n",
    "end_dt = pd.to_datetime(df['end_time'], format='%H:%M:%S')\n",
    "\n",
    "# duration в минутах\n",
    "df['duration'] = (end_dt - start_dt).dt.total_seconds() / 60\n",
    "\n",
    "# Возвращаем формат к начальному\n",
    "df['start_time'] = start_dt.dt.time\n",
    "df['end_time'] = end_dt.dt.time \n",
    "\n",
    "df"
   ]
  },
  {
   "cell_type": "code",
   "execution_count": 291,
   "id": "bce37b30-aa9d-48f2-bb12-94ed5f7f0cd9",
   "metadata": {},
   "outputs": [
    {
     "name": "stdout",
     "output_type": "stream",
     "text": [
      "ride type         m          t\n",
      "count      35.00000  35.000000\n",
      "mean       36.60000  44.914286\n",
      "std         2.61444   4.755006\n",
      "min        31.00000  36.000000\n",
      "25%        35.00000  41.000000\n",
      "50%        37.00000  44.000000\n",
      "75%        38.50000  48.000000\n",
      "max        44.00000  55.000000\n"
     ]
    }
   ],
   "source": [
    "# Группировка по типу транспорта и вывод статистики для каждого типа\n",
    "statistics = df.groupby('ride type')['duration'].describe().T\n",
    "print(statistics)"
   ]
  },
  {
   "cell_type": "code",
   "execution_count": 292,
   "id": "70f5e785-1306-4b1f-b0cb-ca52cdd7f2be",
   "metadata": {},
   "outputs": [
    {
     "name": "stderr",
     "output_type": "stream",
     "text": [
      "C:\\Users\\andrey\\AppData\\Local\\Temp\\ipykernel_10252\\3436510569.py:2: FutureWarning: \n",
      "\n",
      "Passing `palette` without assigning `hue` is deprecated and will be removed in v0.14.0. Assign the `x` variable to `hue` and set `legend=False` for the same effect.\n",
      "\n",
      "  ax = sns.boxplot(x='ride type', y='duration', data=df, palette='Set2')\n",
      "C:\\Users\\andrey\\AppData\\Local\\Temp\\ipykernel_10252\\3436510569.py:6: UserWarning: set_ticklabels() should only be used with a fixed number of ticks, i.e. after set_ticks() or using a FixedLocator.\n",
      "  ax.set_xticklabels(['Trolleybus', 'Metro'])\n"
     ]
    },
    {
     "data": {
      "image/png": "[encoded data removed]",
      "text/plain": [
       "<Figure size 640x480 with 1 Axes>"
      ]
     },
     "metadata": {},
     "output_type": "display_data"
    }
   ],
   "source": [
    "# Построим boxplot для визуализации различий между типами транспорта\n",
    "ax = sns.boxplot(x='ride type', y='duration', data=df, palette='Set2')\n",
    "plt.title('Comparison two ride types of trolleybus and metro')\n",
    "plt.xlabel('Ride Type')\n",
    "plt.ylabel('Duration (min)')\n",
    "ax.set_xticklabels(['Trolleybus', 'Metro'])\n",
    "plt.show()"
   ]
  },
  {
   "cell_type": "code",
   "execution_count": 293,
   "id": "b39aaa31-83c2-4388-8d78-135c3128f19b",
   "metadata": {},
   "outputs": [],
   "source": [
    "# Перед применением статистических тестов, разделим поездки на троллейбусе и метро по группам \n",
    "metro = df[df['ride type'] == 'm']['duration']\n",
    "trolleybus = df[df['ride type'] == 't']['duration']"
   ]
  },
  {
   "cell_type": "code",
   "execution_count": 294,
   "id": "df00b126-ec3b-4873-8512-886040cbaa77",
   "metadata": {},
   "outputs": [
    {
     "name": "stdout",
     "output_type": "stream",
     "text": [
      "[35.0, 34.0, 35.0, 38.0, 38.0, 37.0, 44.0, 35.0, 37.0, 34.0, 37.0, 34.0, 39.0, 33.0, 39.0, 39.0, 34.0, 36.0, 32.0, 39.0, 35.0, 37.0, 36.0, 36.0, 41.0, 31.0, 39.0, 37.0, 38.0, 39.0, 39.0, 37.0, 34.0, 36.0, 37.0]\n"
     ]
    }
   ],
   "source": [
    "print(metro.tolist())"
   ]
  },
  {
   "cell_type": "code",
   "execution_count": 295,
   "id": "42fc6e48-deb0-4e6f-b980-aab9bcbbcab3",
   "metadata": {},
   "outputs": [
    {
     "data": {
      "image/png": "[encoded data removed]",
      "text/plain": [
       "<Figure size 640x480 with 1 Axes>"
      ]
     },
     "metadata": {},
     "output_type": "display_data"
    }
   ],
   "source": [
    "metro.hist(bins=10, edgecolor='black')\n",
    "plt.title('Metro ride duration')\n",
    "plt.xlabel('Duration min')\n",
    "plt.ylabel('Number of trips')\n",
    "plt.grid(True)\n",
    "plt.show()"
   ]
  },
  {
   "cell_type": "code",
   "execution_count": 296,
   "id": "feaf0fb9-731a-441f-ad68-538a2b7131fa",
   "metadata": {},
   "outputs": [
    {
     "name": "stdout",
     "output_type": "stream",
     "text": [
      "Metro: Statistics=0.966, p-value=0.335\n"
     ]
    }
   ],
   "source": [
    "# Распределение времени поездки на метро похоже на нормальное, проведем тест \n",
    "# Шапиро-Уилка \n",
    "\n",
    "stat, p_value_metro = shapiro(metro)\n",
    "print(f'Metro: Statistics={stat:.3f}, p-value={p_value_metro:.3f}')"
   ]
  },
  {
   "cell_type": "code",
   "execution_count": 297,
   "id": "80e52268-f014-4579-97b6-cb13e7d15456",
   "metadata": {},
   "outputs": [],
   "source": [
    "# p > 0.05, у нас нет оснований отклонить нулевую гипотезу о нормальном распределении данных"
   ]
  },
  {
   "cell_type": "code",
   "execution_count": 298,
   "id": "d1c953d5-a7a7-46c8-89cf-d19765a06df1",
   "metadata": {},
   "outputs": [
    {
     "name": "stdout",
     "output_type": "stream",
     "text": [
      "[42.0, 40.0, 40.0, 43.0, 41.0, 46.0, 53.0, 50.0, 42.0, 47.0, 55.0, 43.0, 39.0, 45.0, 40.0, 42.0, 47.0, 53.0, 46.0, 42.0, 48.0, 43.0, 47.0, 44.0, 48.0, 36.0, 41.0, 39.0, 41.0, 41.0, 48.0, 48.0, 55.0, 48.0, 49.0]\n"
     ]
    }
   ],
   "source": [
    "print(trolleybus.tolist())"
   ]
  },
  {
   "cell_type": "code",
   "execution_count": 299,
   "id": "2a8c2b92-556b-4b41-9ce2-7c24c517de00",
   "metadata": {},
   "outputs": [
    {
     "data": {
      "image/png": "[encoded data removed]",
      "text/plain": [
       "<Figure size 640x480 with 1 Axes>"
      ]
     },
     "metadata": {},
     "output_type": "display_data"
    }
   ],
   "source": [
    "trolleybus.hist(bins=10, edgecolor='black')\n",
    "plt.title('Trolleybus ride duration')\n",
    "plt.xlabel('Duration min')\n",
    "plt.ylabel('Number of trips')\n",
    "plt.grid(True)\n",
    "plt.show()"
   ]
  },
  {
   "cell_type": "code",
   "execution_count": 300,
   "id": "02d53845-5666-4dae-adf2-128b0677b19e",
   "metadata": {},
   "outputs": [
    {
     "name": "stdout",
     "output_type": "stream",
     "text": [
      "Trolleybus: Statistics=0.952, p-value=0.129\n"
     ]
    }
   ],
   "source": [
    "# Распределение времени поездки на троллейбусе похоже на нормальное, проведем тест \n",
    "# Шапиро-Уилка \n",
    "\n",
    "stat, p_value_trolleybus = shapiro(trolleybus)\n",
    "print(f'Trolleybus: Statistics={stat:.3f}, p-value={p_value_trolleybus:.3f}')"
   ]
  },
  {
   "cell_type": "code",
   "execution_count": 301,
   "id": "6bfdde2e-96ed-48d7-b909-bda029ed08b6",
   "metadata": {},
   "outputs": [],
   "source": [
    "# p > 0.05, у нас нет оснований отклонить нулевую гипотезу о нормальном распределении данных"
   ]
  },
  {
   "cell_type": "code",
   "execution_count": 310,
   "id": "75542edc-5a93-4507-8a9e-42a39c921de8",
   "metadata": {},
   "outputs": [
    {
     "name": "stdout",
     "output_type": "stream",
     "text": [
      "Levene test: Statistics=12.765, p-value=0.001\n"
     ]
    }
   ],
   "source": [
    "# Проверим гомогенность дисперсий с помощью критерия Левена \n",
    "stat, p_value = levene(metro, trolleybus)\n",
    "print(f'Levene test: Statistics={stat:.3f}, p-value={p_value:.3f}')"
   ]
  },
  {
   "cell_type": "code",
   "execution_count": 311,
   "id": "8d098e5c-05ab-4adc-8062-5095a58bacef",
   "metadata": {},
   "outputs": [],
   "source": [
    "# p-value < 0.05, отвергаем нулевую гипотезу о том, что дисперсии одинаковы"
   ]
  },
  {
   "cell_type": "code",
   "execution_count": 312,
   "id": "4b751174-5f2d-4594-8c08-3d81f13e6c6b",
   "metadata": {},
   "outputs": [
    {
     "name": "stdout",
     "output_type": "stream",
     "text": [
      "Welch t-test: Statistics=-9.065, p-value=0.000\n"
     ]
    }
   ],
   "source": [
    "# Так как распределение данных в наборе данных metro и trolleybus является нормальным, но дисперсии различны,\n",
    "# целесообразно применить t-критерий Уэлча, выглядит так же как t-test с аргументом equal_var=False\n",
    "\n",
    "# Применяем тест Уэлча (t-test с unequal variances)\n",
    "stat, p_value = ttest_ind(metro, trolleybus, equal_var=False)\n",
    "\n",
    "# Выводим результат\n",
    "print(f'Welch t-test: Statistics={stat:.3f}, p-value={p_value:.3f}')"
   ]
  },
  {
   "cell_type": "code",
   "execution_count": 303,
   "id": "f7223440-5603-4cf4-aff9-83fc482573c4",
   "metadata": {},
   "outputs": [],
   "source": [
    "# По результатам теста видим, что выборки значимо различаются, p < 0.05"
   ]
  },
  {
   "cell_type": "code",
   "execution_count": 304,
   "id": "909c8e82-1ac5-4c5b-a36b-83da0d8cd0ef",
   "metadata": {},
   "outputs": [
    {
     "name": "stderr",
     "output_type": "stream",
     "text": [
      "C:\\Users\\andrey\\AppData\\Local\\Temp\\ipykernel_10252\\973961122.py:5: UserWarning: set_ticklabels() should only be used with a fixed number of ticks, i.e. after set_ticks() or using a FixedLocator.\n",
      "  ax.set_xticklabels(['Trolleybus', 'Metro'])\n"
     ]
    },
    {
     "data": {
      "image/png": "[encoded data removed]",
      "text/plain": [
       "<Figure size 640x480 with 1 Axes>"
      ]
     },
     "metadata": {},
     "output_type": "display_data"
    }
   ],
   "source": [
    "# Построение boxplot для видов транспорта и отправления и прибытия \n",
    "\n",
    "ax = sns.boxplot(x='ride type', y='duration', hue='departure_arrive', data=df)\n",
    "\n",
    "# Названия оси X\n",
    "ax.set_xticklabels(['Trolleybus', 'Metro'])\n",
    "\n",
    "# Изменение названий в легенде\n",
    "handles, labels = ax.get_legend_handles_labels()\n",
    "new_labels = ['Departure', 'Arrival']  # Новые подписи для легенды\n",
    "ax.legend(handles, new_labels, title='Departure Arrival')\n",
    "\n",
    "plt.title('Duration by type of transport and direction')\n",
    "plt.xlabel('Transport type')\n",
    "plt.ylabel('Duration (min)')\n",
    "plt.show()"
   ]
  },
  {
   "cell_type": "code",
   "execution_count": null,
   "id": "d589a5d1-2f0e-4fa6-b138-8d61782c833f",
   "metadata": {},
   "outputs": [],
   "source": [
    "# Видим различия для arrival и department, притом для metro boxplot пересекаются, что говорит нам о том,\n",
    "# что нет значимых различий для утреннего и вечернего времени\n",
    "\n",
    "# Для trolleybus видим значимые различия для утреннего и вечернего времени, что может свидетельствовать \n",
    "# о том, что вечером возникают пробки, которые и увеличивают интервал времени"
   ]
  },
  {
   "cell_type": "code",
   "execution_count": null,
   "id": "e22f0810-c2cb-4f0b-8c71-9da8151b409a",
   "metadata": {},
   "outputs": [],
   "source": [
    "# По результатам исследования, можно сделать следующие выводы \n",
    "\n",
    "# 1. Есть значимые различия между временем поездки на метро и на троллейбусе\n",
    "\n",
    "# 2. Для передвижений на троллейбусе значимым фактором является утреннее и вечернее время, вечером интервал \n",
    "# времени как правило больше\n",
    "\n",
    "# 3. Также можно заметить, что количество outliers для троллейбуса больше, чем для метро, что говорит нам о \n",
    "# меньшей предсказуемости этого вида транспорта и различных факторах, которые влияют на время поездки на нем\n",
    "\n",
    "# В целом же можно сделать вывод, что метро быстрее и менее подвержено временным колебаниям"
   ]
  },
  {
   "cell_type": "code",
   "execution_count": 321,
   "id": "5a353206-3d72-4966-b079-33e6cad7b17b",
   "metadata": {},
   "outputs": [],
   "source": [
    "# Произведем подготовку Dataset для последующего анализа в R "
   ]
  },
  {
   "cell_type": "code",
   "execution_count": 324,
   "id": "c633c707-9a24-4485-90b5-28750ae4d73c",
   "metadata": {},
   "outputs": [
    {
     "data": {
      "text/html": [
       "<div>\n",
       "<style scoped>\n",
       "    .dataframe tbody tr th:only-of-type {\n",
       "        vertical-align: middle;\n",
       "    }\n",
       "\n",
       "    .dataframe tbody tr th {\n",
       "        vertical-align: top;\n",
       "    }\n",
       "\n",
       "    .dataframe thead th {\n",
       "        text-align: right;\n",
       "    }\n",
       "</style>\n",
       "<table border=\"1\" class=\"dataframe\">\n",
       "  <thead>\n",
       "    <tr style=\"text-align: right;\">\n",
       "      <th></th>\n",
       "      <th>start_time</th>\n",
       "      <th>end_time</th>\n",
       "      <th>ride type</th>\n",
       "      <th>departure_arrive</th>\n",
       "      <th>duration</th>\n",
       "      <th>start_hour</th>\n",
       "    </tr>\n",
       "  </thead>\n",
       "  <tbody>\n",
       "    <tr>\n",
       "      <th>0</th>\n",
       "      <td>10:23:00</td>\n",
       "      <td>11:05:00</td>\n",
       "      <td>t</td>\n",
       "      <td>d</td>\n",
       "      <td>42.0</td>\n",
       "      <td>10</td>\n",
       "    </tr>\n",
       "    <tr>\n",
       "      <th>1</th>\n",
       "      <td>10:52:00</td>\n",
       "      <td>11:32:00</td>\n",
       "      <td>t</td>\n",
       "      <td>d</td>\n",
       "      <td>40.0</td>\n",
       "      <td>10</td>\n",
       "    </tr>\n",
       "    <tr>\n",
       "      <th>2</th>\n",
       "      <td>08:00:00</td>\n",
       "      <td>08:40:00</td>\n",
       "      <td>t</td>\n",
       "      <td>d</td>\n",
       "      <td>40.0</td>\n",
       "      <td>8</td>\n",
       "    </tr>\n",
       "    <tr>\n",
       "      <th>3</th>\n",
       "      <td>07:59:00</td>\n",
       "      <td>08:42:00</td>\n",
       "      <td>t</td>\n",
       "      <td>d</td>\n",
       "      <td>43.0</td>\n",
       "      <td>7</td>\n",
       "    </tr>\n",
       "    <tr>\n",
       "      <th>4</th>\n",
       "      <td>08:06:00</td>\n",
       "      <td>08:47:00</td>\n",
       "      <td>t</td>\n",
       "      <td>d</td>\n",
       "      <td>41.0</td>\n",
       "      <td>8</td>\n",
       "    </tr>\n",
       "    <tr>\n",
       "      <th>...</th>\n",
       "      <td>...</td>\n",
       "      <td>...</td>\n",
       "      <td>...</td>\n",
       "      <td>...</td>\n",
       "      <td>...</td>\n",
       "      <td>...</td>\n",
       "    </tr>\n",
       "    <tr>\n",
       "      <th>65</th>\n",
       "      <td>09:02:00</td>\n",
       "      <td>09:41:00</td>\n",
       "      <td>m</td>\n",
       "      <td>d</td>\n",
       "      <td>39.0</td>\n",
       "      <td>9</td>\n",
       "    </tr>\n",
       "    <tr>\n",
       "      <th>66</th>\n",
       "      <td>18:22:00</td>\n",
       "      <td>18:59:00</td>\n",
       "      <td>m</td>\n",
       "      <td>a</td>\n",
       "      <td>37.0</td>\n",
       "      <td>18</td>\n",
       "    </tr>\n",
       "    <tr>\n",
       "      <th>67</th>\n",
       "      <td>08:36:00</td>\n",
       "      <td>09:10:00</td>\n",
       "      <td>m</td>\n",
       "      <td>d</td>\n",
       "      <td>34.0</td>\n",
       "      <td>8</td>\n",
       "    </tr>\n",
       "    <tr>\n",
       "      <th>68</th>\n",
       "      <td>08:43:00</td>\n",
       "      <td>09:19:00</td>\n",
       "      <td>m</td>\n",
       "      <td>d</td>\n",
       "      <td>36.0</td>\n",
       "      <td>8</td>\n",
       "    </tr>\n",
       "    <tr>\n",
       "      <th>69</th>\n",
       "      <td>08:38:00</td>\n",
       "      <td>09:15:00</td>\n",
       "      <td>m</td>\n",
       "      <td>d</td>\n",
       "      <td>37.0</td>\n",
       "      <td>8</td>\n",
       "    </tr>\n",
       "  </tbody>\n",
       "</table>\n",
       "<p>70 rows × 6 columns</p>\n",
       "</div>"
      ],
      "text/plain": [
       "   start_time  end_time ride type departure_arrive  duration  start_hour\n",
       "0    10:23:00  11:05:00         t                d      42.0          10\n",
       "1    10:52:00  11:32:00         t                d      40.0          10\n",
       "2    08:00:00  08:40:00         t                d      40.0           8\n",
       "3    07:59:00  08:42:00         t                d      43.0           7\n",
       "4    08:06:00  08:47:00         t                d      41.0           8\n",
       "..        ...       ...       ...              ...       ...         ...\n",
       "65   09:02:00  09:41:00         m                d      39.0           9\n",
       "66   18:22:00  18:59:00         m                a      37.0          18\n",
       "67   08:36:00  09:10:00         m                d      34.0           8\n",
       "68   08:43:00  09:19:00         m                d      36.0           8\n",
       "69   08:38:00  09:15:00         m                d      37.0           8\n",
       "\n",
       "[70 rows x 6 columns]"
      ]
     },
     "execution_count": 324,
     "metadata": {},
     "output_type": "execute_result"
    }
   ],
   "source": [
    "# Преобразуем start_time в формат времени (если ещё не сделано)\n",
    "df['start_time'] = pd.to_datetime(df['start_time'], format='%H:%M:%S')\n",
    "df['start_hour'] = df['start_time'].dt.hour \n",
    "\n",
    "df['start_time'] = start_dt.dt.time\n",
    "df"
   ]
  },
  {
   "cell_type": "code",
   "execution_count": 326,
   "id": "5a54e9ac-86c6-44c3-9cf9-acac96dba369",
   "metadata": {},
   "outputs": [],
   "source": [
    "# Выгрузим файл в .csv для последующего анализа в R\n",
    "df.to_csv(\"ride_data.csv\", index=False)"
   ]
  },
  {
   "cell_type": "code",
   "execution_count": 327,
   "id": "770076ef-72cd-40ac-bcb2-ffc72e3a8e14",
   "metadata": {},
   "outputs": [
    {
     "data": {
      "text/html": [
       "<div>\n",
       "<style scoped>\n",
       "    .dataframe tbody tr th:only-of-type {\n",
       "        vertical-align: middle;\n",
       "    }\n",
       "\n",
       "    .dataframe tbody tr th {\n",
       "        vertical-align: top;\n",
       "    }\n",
       "\n",
       "    .dataframe thead th {\n",
       "        text-align: right;\n",
       "    }\n",
       "</style>\n",
       "<table border=\"1\" class=\"dataframe\">\n",
       "  <thead>\n",
       "    <tr style=\"text-align: right;\">\n",
       "      <th></th>\n",
       "      <th>start_time</th>\n",
       "      <th>end_time</th>\n",
       "      <th>ride type</th>\n",
       "      <th>departure_arrive</th>\n",
       "      <th>duration</th>\n",
       "      <th>start_hour</th>\n",
       "    </tr>\n",
       "  </thead>\n",
       "  <tbody>\n",
       "    <tr>\n",
       "      <th>0</th>\n",
       "      <td>10:23:00</td>\n",
       "      <td>11:05:00</td>\n",
       "      <td>t</td>\n",
       "      <td>d</td>\n",
       "      <td>42.0</td>\n",
       "      <td>10</td>\n",
       "    </tr>\n",
       "    <tr>\n",
       "      <th>1</th>\n",
       "      <td>10:52:00</td>\n",
       "      <td>11:32:00</td>\n",
       "      <td>t</td>\n",
       "      <td>d</td>\n",
       "      <td>40.0</td>\n",
       "      <td>10</td>\n",
       "    </tr>\n",
       "    <tr>\n",
       "      <th>2</th>\n",
       "      <td>08:00:00</td>\n",
       "      <td>08:40:00</td>\n",
       "      <td>t</td>\n",
       "      <td>d</td>\n",
       "      <td>40.0</td>\n",
       "      <td>8</td>\n",
       "    </tr>\n",
       "    <tr>\n",
       "      <th>3</th>\n",
       "      <td>07:59:00</td>\n",
       "      <td>08:42:00</td>\n",
       "      <td>t</td>\n",
       "      <td>d</td>\n",
       "      <td>43.0</td>\n",
       "      <td>7</td>\n",
       "    </tr>\n",
       "    <tr>\n",
       "      <th>4</th>\n",
       "      <td>08:06:00</td>\n",
       "      <td>08:47:00</td>\n",
       "      <td>t</td>\n",
       "      <td>d</td>\n",
       "      <td>41.0</td>\n",
       "      <td>8</td>\n",
       "    </tr>\n",
       "    <tr>\n",
       "      <th>...</th>\n",
       "      <td>...</td>\n",
       "      <td>...</td>\n",
       "      <td>...</td>\n",
       "      <td>...</td>\n",
       "      <td>...</td>\n",
       "      <td>...</td>\n",
       "    </tr>\n",
       "    <tr>\n",
       "      <th>65</th>\n",
       "      <td>09:02:00</td>\n",
       "      <td>09:41:00</td>\n",
       "      <td>m</td>\n",
       "      <td>d</td>\n",
       "      <td>39.0</td>\n",
       "      <td>9</td>\n",
       "    </tr>\n",
       "    <tr>\n",
       "      <th>66</th>\n",
       "      <td>18:22:00</td>\n",
       "      <td>18:59:00</td>\n",
       "      <td>m</td>\n",
       "      <td>a</td>\n",
       "      <td>37.0</td>\n",
       "      <td>18</td>\n",
       "    </tr>\n",
       "    <tr>\n",
       "      <th>67</th>\n",
       "      <td>08:36:00</td>\n",
       "      <td>09:10:00</td>\n",
       "      <td>m</td>\n",
       "      <td>d</td>\n",
       "      <td>34.0</td>\n",
       "      <td>8</td>\n",
       "    </tr>\n",
       "    <tr>\n",
       "      <th>68</th>\n",
       "      <td>08:43:00</td>\n",
       "      <td>09:19:00</td>\n",
       "      <td>m</td>\n",
       "      <td>d</td>\n",
       "      <td>36.0</td>\n",
       "      <td>8</td>\n",
       "    </tr>\n",
       "    <tr>\n",
       "      <th>69</th>\n",
       "      <td>08:38:00</td>\n",
       "      <td>09:15:00</td>\n",
       "      <td>m</td>\n",
       "      <td>d</td>\n",
       "      <td>37.0</td>\n",
       "      <td>8</td>\n",
       "    </tr>\n",
       "  </tbody>\n",
       "</table>\n",
       "<p>70 rows × 6 columns</p>\n",
       "</div>"
      ],
      "text/plain": [
       "   start_time  end_time ride type departure_arrive  duration  start_hour\n",
       "0    10:23:00  11:05:00         t                d      42.0          10\n",
       "1    10:52:00  11:32:00         t                d      40.0          10\n",
       "2    08:00:00  08:40:00         t                d      40.0           8\n",
       "3    07:59:00  08:42:00         t                d      43.0           7\n",
       "4    08:06:00  08:47:00         t                d      41.0           8\n",
       "..        ...       ...       ...              ...       ...         ...\n",
       "65   09:02:00  09:41:00         m                d      39.0           9\n",
       "66   18:22:00  18:59:00         m                a      37.0          18\n",
       "67   08:36:00  09:10:00         m                d      34.0           8\n",
       "68   08:43:00  09:19:00         m                d      36.0           8\n",
       "69   08:38:00  09:15:00         m                d      37.0           8\n",
       "\n",
       "[70 rows x 6 columns]"
      ]
     },
     "execution_count": 327,
     "metadata": {},
     "output_type": "execute_result"
    }
   ],
   "source": [
    "df"
   ]
  }
 ],
 "metadata": {
  "kernelspec": {
   "display_name": "Python 3 (ipykernel)",
   "language": "python",
   "name": "python3"
  },
  "language_info": {
   "codemirror_mode": {
    "name": "ipython",
    "version": 3
   },
   "file_extension": ".py",
   "mimetype": "text/x-python",
   "name": "python",
   "nbconvert_exporter": "python",
   "pygments_lexer": "ipython3",
   "version": "3.12.8"
  }
 },
 "nbformat": 4,
 "nbformat_minor": 5
}
